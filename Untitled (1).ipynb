{
 "cells": [
  {
   "cell_type": "code",
   "execution_count": 18,
   "id": "8c446753-f4c6-4b2f-ab8b-efaa2ffeb7d2",
   "metadata": {},
   "outputs": [
    {
     "data": {
      "text/plain": [
       "['even', 'odd', 'even', 'odd', 'odd', 'even']"
      ]
     },
     "execution_count": 18,
     "metadata": {},
     "output_type": "execute_result"
    }
   ],
   "source": [
    "#Even or Odd\n",
    "def Even_or_Odd(n):\n",
    "    return ['even' if i%2==0 else 'odd' for i in n ]\n",
    "Even_or_Odd([78,67,44,1,3,2])   "
   ]
  },
  {
   "cell_type": "code",
   "execution_count": 28,
   "id": "b8ab3d95-3389-408f-baf0-d31a9fa8c027",
   "metadata": {},
   "outputs": [
    {
     "data": {
      "text/plain": [
       "80"
      ]
     },
     "execution_count": 28,
     "metadata": {},
     "output_type": "execute_result"
    }
   ],
   "source": [
    "#Sum of Positive Numbers\n",
    "def sum_of_positive(n):\n",
    "    return sum(num for num in n if num>0 )\n",
    "\n",
    "sum_of_positive([2,3,4,5,66,-55,-44,-67])\n",
    "    "
   ]
  },
  {
   "cell_type": "code",
   "execution_count": 32,
   "id": "c73e4171-5033-4769-9464-475b7d9a1e66",
   "metadata": {},
   "outputs": [
    {
     "data": {
      "text/plain": [
       "'hseliN'"
      ]
     },
     "execution_count": 32,
     "metadata": {},
     "output_type": "execute_result"
    }
   ],
   "source": [
    "#Reversed String\n",
    "def reversed_string(s):\n",
    "    return s[::-1]\n",
    "reversed_string(\"121\")  \n",
    "reversed_string(\"Nilesh\")"
   ]
  },
  {
   "cell_type": "code",
   "execution_count": 50,
   "id": "3a912a6e-67a0-4cec-918e-f4aaaef368c7",
   "metadata": {},
   "outputs": [
    {
     "data": {
      "text/plain": [
       "2"
      ]
     },
     "execution_count": 50,
     "metadata": {},
     "output_type": "execute_result"
    }
   ],
   "source": [
    "#Count Vowels\n",
    "def Count_Vowels(g):\n",
    "    counte=0\n",
    "    g.lower()\n",
    "    vowel='aeiou'\n",
    "    for i in g:\n",
    "        if i in vowel:\n",
    "            counte+=1\n",
    "    return counte   \n",
    "Count_Vowels(\"kales\")      "
   ]
  },
  {
   "cell_type": "code",
   "execution_count": 60,
   "id": "62fbacc2-a837-4c5e-8df6-d330f3833e8a",
   "metadata": {},
   "outputs": [
    {
     "data": {
      "text/plain": [
       "2"
      ]
     },
     "execution_count": 60,
     "metadata": {},
     "output_type": "execute_result"
    }
   ],
   "source": [
    "#Find the Smallest Integer\n",
    "def find_smallest_int(i):\n",
    "    return min(i)\n",
    "find_smallest_int([2,3,4,5,6,6])    "
   ]
  },
  {
   "cell_type": "code",
   "execution_count": 110,
   "id": "cb40f8bb-38c8-4811-96ed-fe1d1226ad78",
   "metadata": {},
   "outputs": [
    {
     "data": {
      "text/plain": [
       "253649"
      ]
     },
     "execution_count": 110,
     "metadata": {},
     "output_type": "execute_result"
    }
   ],
   "source": [
    "#Square Every Digit\n",
    "def Square_Every_Digit(s):\n",
    "    n=str(s)\n",
    "    result=\"\"\n",
    "    for i in n:\n",
    "        p=int(i)**2 \n",
    "        result+=str(p)\n",
    "    return int(result)    \n",
    "Square_Every_Digit(567)        \n",
    "    "
   ]
  },
  {
   "cell_type": "code",
   "execution_count": 120,
   "id": "ecabdbdb-074e-431c-a88f-08dc944ffd0c",
   "metadata": {},
   "outputs": [
    {
     "data": {
      "text/plain": [
       "'HelloTHISIS'"
      ]
     },
     "execution_count": 120,
     "metadata": {},
     "output_type": "execute_result"
    }
   ],
   "source": [
    "#Remove space\n",
    "def Remove_Spaces(s):\n",
    "    t=s.replace(\" \",\"\")\n",
    "    return t\n",
    "\n",
    "Remove_Spaces(\" Hello THIS IS \")\n",
    "    "
   ]
  },
  {
   "cell_type": "code",
   "execution_count": 124,
   "id": "3642f5c4-f7d9-4733-af70-0a6a76a8e981",
   "metadata": {},
   "outputs": [
    {
     "data": {
      "text/plain": [
       "14"
      ]
     },
     "execution_count": 124,
     "metadata": {},
     "output_type": "execute_result"
    }
   ],
   "source": [
    "#Sum Without Highest and Lowest Number\n",
    "def Sum_Number(n):\n",
    "    return sum(n[1:-1])\n",
    "Sum_Number([1,2,3,4,5,100])    "
   ]
  },
  {
   "cell_type": "code",
   "execution_count": 156,
   "id": "3fecfef5-d341-47d1-899a-6da31cd6ff05",
   "metadata": {},
   "outputs": [
    {
     "data": {
      "text/plain": [
       "'le'"
      ]
     },
     "execution_count": 156,
     "metadata": {},
     "output_type": "execute_result"
    }
   ],
   "source": [
    "#Find the Middle Character(s)\n",
    "def Middle_char(s):\n",
    "    l=len(s)\n",
    "    mid=l//2\n",
    "    if l%2==0:\n",
    "        return s[mid-1:mid+1]\n",
    "    else:\n",
    "        return s[mid]\n",
    "Middle_char(\"Nilesh\")        "
   ]
  },
  {
   "cell_type": "code",
   "execution_count": 174,
   "id": "1fc560e1-8278-4365-bb81-935aef2f13c9",
   "metadata": {},
   "outputs": [
    {
     "data": {
      "text/plain": [
       "23"
      ]
     },
     "execution_count": 174,
     "metadata": {},
     "output_type": "execute_result"
    }
   ],
   "source": [
    "#Sum of Multiples of 3 or 5\n",
    "def Multiples_of_3_or_5(n):\n",
    "    total=0\n",
    "    for i in range(n):\n",
    "        if i%3==0 or i%5==0:\n",
    "            total+=i\n",
    "    return total        \n",
    "\n",
    "Multiples_of_3_or_5(10)\n"
   ]
  },
  {
   "cell_type": "code",
   "execution_count": 188,
   "id": "aaceae61-2397-40cb-9836-a076cf2d38cf",
   "metadata": {},
   "outputs": [
    {
     "data": {
      "text/plain": [
       "True"
      ]
     },
     "execution_count": 188,
     "metadata": {},
     "output_type": "execute_result"
    }
   ],
   "source": [
    "def has_repeted_char(s):\n",
    "    return len(s)!=len(set(s))\n",
    "\n",
    "has_repeted_char(\"Happy\")\n",
    "        "
   ]
  },
  {
   "cell_type": "code",
   "execution_count": 1,
   "id": "6fc89653-5f4c-4662-bcfa-4f3c83d328c4",
   "metadata": {},
   "outputs": [
    {
     "name": "stdout",
     "output_type": "stream",
     "text": [
      "hi\n"
     ]
    }
   ],
   "source": [
    "print(\"hi\")"
   ]
  },
  {
   "cell_type": "code",
   "execution_count": 2,
   "id": "9a9c0cf4",
   "metadata": {},
   "outputs": [
    {
     "data": {
      "text/plain": [
       "'ytho'"
      ]
     },
     "execution_count": 2,
     "metadata": {},
     "output_type": "execute_result"
    }
   ],
   "source": [
    "#Remove First and Last Character\n",
    "def remove_f_l(s):\n",
    "    return s[1:-1]\n",
    "remove_f_l(\"Python\")"
   ]
  },
  {
   "cell_type": "code",
   "execution_count": 29,
   "id": "ed1f12c9",
   "metadata": {},
   "outputs": [
    {
     "name": "stdout",
     "output_type": "stream",
     "text": [
      "9\n"
     ]
    },
    {
     "data": {
      "text/plain": [
       "-9"
      ]
     },
     "execution_count": 29,
     "metadata": {},
     "output_type": "execute_result"
    }
   ],
   "source": [
    "def opposite_num(n):\n",
    "    if n<0:\n",
    "        return abs(n)\n",
    "    else:\n",
    "        return -n\n",
    "print(opposite_num(-9)) \n",
    "opposite_num(9)   \n",
    "    \n",
    "    "
   ]
  },
  {
   "cell_type": "code",
   "execution_count": 12,
   "id": "f5f49cd4",
   "metadata": {},
   "outputs": [
    {
     "data": {
      "text/plain": [
       "475"
      ]
     },
     "execution_count": 12,
     "metadata": {},
     "output_type": "execute_result"
    }
   ],
   "source": [
    "#Convert String to Number\n",
    "def convert_to_Number(s):\n",
    "    return int(s)\n",
    "\n",
    "convert_to_Number(\"475\")"
   ]
  },
  {
   "cell_type": "code",
   "execution_count": null,
   "id": "5b6fa1cf",
   "metadata": {},
   "outputs": [
    {
     "data": {
      "text/plain": [
       "0"
      ]
     },
     "execution_count": 18,
     "metadata": {},
     "output_type": "execute_result"
    }
   ],
   "source": [
    "#Sum of Differences in Array\n",
    "def sum_of_difference(n):\n",
    "    if len(n)<2:\n",
    "        return 0\n",
    "    n.sort(reverse=True)\n",
    "    total=0\n",
    "    for i in range(len(n)-1):\n",
    "        total+=n[i]-n[i+1]\n",
    "    return total    \n",
    "sum_of_difference([1,2,34,3,22])\n",
    "\n",
    "\n",
    "\n"
   ]
  },
  {
   "cell_type": "code",
   "execution_count": 24,
   "id": "31736fe1",
   "metadata": {},
   "outputs": [
    {
     "data": {
      "text/plain": [
       "[4, 4, 5, 6, 33, 544]"
      ]
     },
     "execution_count": 24,
     "metadata": {},
     "output_type": "execute_result"
    }
   ],
   "source": [
    "#remove the smallest number\n",
    "def remove_smallest_num(n):\n",
    "    n.sort()\n",
    "    return n[1:]\n",
    "remove_smallest_num([6,5,4,3,4,544,33])"
   ]
  },
  {
   "cell_type": "code",
   "execution_count": 32,
   "id": "f01223ad",
   "metadata": {},
   "outputs": [
    {
     "data": {
      "text/plain": [
       "3"
      ]
     },
     "execution_count": 32,
     "metadata": {},
     "output_type": "execute_result"
    }
   ],
   "source": [
    "def count_digit(n):\n",
    "    return len(str(abs(n)))\n",
    "count_digit(234)\n"
   ]
  },
  {
   "cell_type": "code",
   "execution_count": 37,
   "id": "fa833833",
   "metadata": {},
   "outputs": [
    {
     "name": "stdout",
     "output_type": "stream",
     "text": [
      "aabbcc\n",
      "HHii!!\n"
     ]
    }
   ],
   "source": [
    "def double_char(s):\n",
    "    result = \"\"\n",
    "    for char in s:\n",
    "        result += char * 2\n",
    "    return result\n",
    "\n",
    "# Examples\n",
    "print(double_char(\"abc\"))    # Output: aabbcc\n",
    "print(double_char(\"Hi!\"))    # Output: HHii!!\n"
   ]
  },
  {
   "cell_type": "code",
   "execution_count": 38,
   "id": "db39f01d",
   "metadata": {},
   "outputs": [
    {
     "name": "stdout",
     "output_type": "stream",
     "text": [
      "-14\n",
      "34\n",
      "0\n"
     ]
    }
   ],
   "source": [
    "def opposite_number(n):\n",
    "    return -n\n",
    "\n",
    "# Examples\n",
    "print(opposite_number(14))   # Output: -14\n",
    "print(opposite_number(-34))  # Output: 34\n",
    "print(opposite_number(0))    # Output: 0\n"
   ]
  },
  {
   "cell_type": "markdown",
   "id": "42585726",
   "metadata": {},
   "source": [
    "# Basic Python"
   ]
  },
  {
   "cell_type": "code",
   "execution_count": 40,
   "id": "cd391ef4",
   "metadata": {},
   "outputs": [
    {
     "name": "stdout",
     "output_type": "stream",
     "text": [
      "133\n"
     ]
    }
   ],
   "source": [
    "## Add Two Numbers in Python\n",
    "a=57\n",
    "b=76\n",
    "c=a+b\n",
    "print(c)"
   ]
  },
  {
   "cell_type": "code",
   "execution_count": 42,
   "id": "56a7d6ca",
   "metadata": {},
   "outputs": [
    {
     "data": {
      "text/plain": [
       "True"
      ]
     },
     "execution_count": 42,
     "metadata": {},
     "output_type": "execute_result"
    }
   ],
   "source": [
    "def validate_hello(greeting):\n",
    "    #your code here\n",
    "    greetings=[\"hello\",\"ciao\",\"salut\",\"hallo\",\"hola\",\"ahoj\",\"czesc\"]\n",
    "    greeting=greeting.lower()    \n",
    "    return any(word in greeting for word in greetings)\n",
    "validate_hello(\"hello\")"
   ]
  },
  {
   "cell_type": "code",
   "execution_count": 44,
   "id": "032a0f44",
   "metadata": {},
   "outputs": [
    {
     "data": {
      "text/plain": [
       "True"
      ]
     },
     "execution_count": 44,
     "metadata": {},
     "output_type": "execute_result"
    }
   ],
   "source": [
    "def lovefunc(flower1,flower2):\n",
    "    return (flower1+flower2)%2==1\n",
    "lovefunc(23,4)"
   ]
  },
  {
   "cell_type": "code",
   "execution_count": 47,
   "id": "a39be65e",
   "metadata": {},
   "outputs": [
    {
     "data": {
      "text/plain": [
       "3"
      ]
     },
     "execution_count": 47,
     "metadata": {},
     "output_type": "execute_result"
    }
   ],
   "source": [
    "def minimum(arr):\n",
    "    return min(arr)\n",
    "def maximum(arr):\n",
    "    return max(arr)    \n",
    "\n",
    "maximum([1,55,44,33,44,56])\n",
    "minimum([66,55,44,3,22])"
   ]
  },
  {
   "cell_type": "code",
   "execution_count": 6,
   "id": "ce5fff87",
   "metadata": {},
   "outputs": [
    {
     "data": {
      "text/plain": [
       "-9"
      ]
     },
     "execution_count": 6,
     "metadata": {},
     "output_type": "execute_result"
    }
   ],
   "source": [
    "#9 — Opposite Number\n",
    "def opposite_number(n):\n",
    "    return -n\n",
    "opposite_number(-9)\n",
    "opposite_number(9)"
   ]
  },
  {
   "cell_type": "code",
   "execution_count": 24,
   "id": "b130cc42",
   "metadata": {},
   "outputs": [
    {
     "data": {
      "text/plain": [
       "62"
      ]
     },
     "execution_count": 24,
     "metadata": {},
     "output_type": "execute_result"
    }
   ],
   "source": [
    "f=[45,32,45,6,4,22,55,66]\n",
    "f.sort()\n",
    "max(f)-min(f)\n"
   ]
  },
  {
   "cell_type": "code",
   "execution_count": 9,
   "id": "c4ae3e64",
   "metadata": {},
   "outputs": [
    {
     "data": {
      "text/plain": [
       "62"
      ]
     },
     "execution_count": 9,
     "metadata": {},
     "output_type": "execute_result"
    }
   ],
   "source": [
    "#Find the Difference Between Max and Min\n",
    "def dif_max_min(n):\n",
    "    return max(n)-min(n)\n",
    "\n",
    "\n",
    "dif_max_min([45,32,45,6,4,22,55,66])    "
   ]
  },
  {
   "cell_type": "code",
   "execution_count": 49,
   "id": "9f34b473",
   "metadata": {},
   "outputs": [
    {
     "data": {
      "text/plain": [
       "[8, 7, 2, 8, 7]"
      ]
     },
     "execution_count": 49,
     "metadata": {},
     "output_type": "execute_result"
    }
   ],
   "source": [
    "#Number to Reversed List of Digits\n",
    "def Reversed_List_Digits(n):\n",
    "    n.replace('',' ')\n",
    "    l=list(map(int,n))\n",
    "    return l[::-1]\n",
    "Reversed_List_Digits(\"78278\")    "
   ]
  },
  {
   "cell_type": "code",
   "execution_count": null,
   "id": "3bbc7aef",
   "metadata": {},
   "outputs": [
    {
     "data": {
      "text/plain": [
       "[4, 7, 6, 5]"
      ]
     },
     "execution_count": 47,
     "metadata": {},
     "output_type": "execute_result"
    }
   ],
   "source": [
    "#Number to Reversed List of Digits\n",
    "t=5674\n",
    "t=str(t)\n",
    "t.replace('',' ')\n",
    "p=list(map(int,t))\n",
    "p[::-1]"
   ]
  },
  {
   "cell_type": "code",
   "execution_count": 50,
   "id": "597e088a",
   "metadata": {},
   "outputs": [
    {
     "name": "stdout",
     "output_type": "stream",
     "text": [
      "[7, 9, 5, 8, 4, 3]\n",
      "[5, 4, 3, 2, 1]\n",
      "[0]\n"
     ]
    }
   ],
   "source": [
    "def digitize(n):\n",
    "    return [int(i) for i in str(n)][::-1]\n",
    "\n",
    "# Examples\n",
    "print(digitize(348597))  # Output: [7, 9, 5, 8, 4, 3]\n",
    "print(digitize(12345))   # Output: [5, 4, 3, 2, 1]\n",
    "print(digitize(0))       # Output: [0]\n"
   ]
  },
  {
   "cell_type": "code",
   "execution_count": 60,
   "id": "5e04256b",
   "metadata": {},
   "outputs": [
    {
     "data": {
      "text/plain": [
       "3"
      ]
     },
     "execution_count": 60,
     "metadata": {},
     "output_type": "execute_result"
    }
   ],
   "source": [
    "#count the Number of Words\n",
    "def count_Num_of_Words(s):\n",
    "    return len(s.split())\n",
    "count_Num_of_Words(\"Python is awesome\")\n"
   ]
  },
  {
   "cell_type": "code",
   "execution_count": 59,
   "id": "a410d0c7",
   "metadata": {},
   "outputs": [
    {
     "data": {
      "text/plain": [
       "3"
      ]
     },
     "execution_count": 59,
     "metadata": {},
     "output_type": "execute_result"
    }
   ],
   "source": [
    "#Count the Number of Words\n",
    "l=\"Python is awesome\"\n",
    "m=l.split()\n",
    "len(m)\n",
    "\n"
   ]
  },
  {
   "cell_type": "code",
   "execution_count": 61,
   "id": "bb6ff72c",
   "metadata": {},
   "outputs": [],
   "source": [
    "#Find the Average of a List\n",
    "def Average_of_List(l):\n",
    "    return l\n"
   ]
  },
  {
   "cell_type": "code",
   "execution_count": null,
   "id": "a38d44ec",
   "metadata": {},
   "outputs": [
    {
     "ename": "NameError",
     "evalue": "name 'mean' is not defined",
     "output_type": "error",
     "traceback": [
      "\u001b[1;31m---------------------------------------------------------------------------\u001b[0m",
      "\u001b[1;31mNameError\u001b[0m                                 Traceback (most recent call last)",
      "Cell \u001b[1;32mIn[62], line 2\u001b[0m\n\u001b[0;32m      1\u001b[0m l\u001b[38;5;241m=\u001b[39m[\u001b[38;5;241m2\u001b[39m,\u001b[38;5;241m56\u001b[39m,\u001b[38;5;241m7\u001b[39m,\u001b[38;5;241m8\u001b[39m]\n\u001b[1;32m----> 2\u001b[0m mean(l)\n",
      "\u001b[1;31mNameError\u001b[0m: name 'mean' is not defined"
     ]
    }
   ],
   "source": [
    "l=[2,56,7,8,'hjjg']\n"
   ]
  },
  {
   "cell_type": "code",
   "execution_count": null,
   "id": "f2554df8",
   "metadata": {},
   "outputs": [],
   "source": []
  }
 ],
 "metadata": {
  "kernelspec": {
   "display_name": "base",
   "language": "python",
   "name": "python3"
  },
  "language_info": {
   "codemirror_mode": {
    "name": "ipython",
    "version": 3
   },
   "file_extension": ".py",
   "mimetype": "text/x-python",
   "name": "python",
   "nbconvert_exporter": "python",
   "pygments_lexer": "ipython3",
   "version": "3.12.3"
  }
 },
 "nbformat": 4,
 "nbformat_minor": 5
}
